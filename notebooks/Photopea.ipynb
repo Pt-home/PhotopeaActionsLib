{
 "cells": [
  {
   "cell_type": "markdown",
   "metadata": {},
   "source": [
    "#Load Photopea in Notebook"
   ]
  },
  {
   "cell_type": "code",
   "execution_count": 54,
   "metadata": {
    "colab": {
     "base_uri": "https://localhost:8080/",
     "height": 545
    },
    "executionInfo": {
     "elapsed": 5,
     "status": "ok",
     "timestamp": 1686394083572,
     "user": {
      "displayName": "Oleg Pustovoit (Pt)",
      "userId": "01453318904714658424"
     },
     "user_tz": -180
    },
    "id": "SdOE-3xA6hti",
    "outputId": "c2f351b3-f799-417c-ec20-97301baee775"
   },
   "outputs": [
    {
     "data": {
      "text/html": [
       "<iframe width=\"1000\" height=\"500\" id=\"OE\" src = \"https://www.photopea.com#%7B%22files%22:%5B%22https://www.photopea.com/api/img2/pug.png%22%5D,%22environment%22:%7B%7D%7D\"></iframe>\n"
      ],
      "text/plain": [
       "<IPython.core.display.HTML object>"
      ]
     },
     "metadata": {},
     "output_type": "display_data"
    }
   ],
   "source": [
    "%%html\n",
    "<iframe width=\"1000\" height=\"500\" id=\"OE\" src = \"https://www.photopea.com#%7B%22files%22:%5B%22https://www.photopea.com/api/img2/pug.png%22%5D,%22environment%22:%7B%7D%7D\"></iframe>"
   ]
  },
  {
   "cell_type": "markdown",
   "metadata": {},
   "source": [
    "#Checked classic PS function"
   ]
  },
  {
   "cell_type": "code",
   "execution_count": 55,
   "metadata": {},
   "outputs": [
    {
     "data": {
      "application/javascript": [
       "var checkedScript = \"app.activeDocument.activeLayer.translate(20,20);\";\n",
       "\n",
       "var wnd = document.getElementById(\"OE\").contentWindow;\n",
       "wnd.postMessage(checkedScript, \"*\");\n"
      ],
      "text/plain": [
       "<IPython.core.display.Javascript object>"
      ]
     },
     "metadata": {},
     "output_type": "display_data"
    }
   ],
   "source": [
    "%%js\n",
    "var checkedScript = \"app.activeDocument.activeLayer.translate(20,20);\";\n",
    "\n",
    "var wnd = document.getElementById(\"OE\").contentWindow;\n",
    "wnd.postMessage(checkedScript, \"*\");"
   ]
  },
  {
   "cell_type": "markdown",
   "metadata": {},
   "source": [
    "#Send custom file in Photopea "
   ]
  },
  {
   "cell_type": "code",
   "execution_count": 56,
   "metadata": {},
   "outputs": [
    {
     "data": {
      "application/javascript": [
       "var customImage = \"https://mario.wiki.gallery/images/3/3e/MPSS_Mario.png\";\n",
       "\n",
       "var wnd = document.getElementById(\"OE\").contentWindow;\n",
       "\n",
       "var request = new XMLHttpRequest();\n",
       "request.open(\"GET\", customImage, true);\n",
       "request.responseType = \"arraybuffer\";\n",
       "request.onload = loaded;\n",
       "request.send();\n",
       "\n",
       "function loaded(e) {\n",
       "  var ab = e.target.response;  // ArrayBuffer\n",
       "  wnd.postMessage(ab, \"*\");\n",
       "}\n"
      ],
      "text/plain": [
       "<IPython.core.display.Javascript object>"
      ]
     },
     "metadata": {},
     "output_type": "display_data"
    }
   ],
   "source": [
    "%%js\n",
    "var customImage = \"https://mario.wiki.gallery/images/3/3e/MPSS_Mario.png\";\n",
    "\n",
    "var wnd = document.getElementById(\"OE\").contentWindow;\n",
    "\n",
    "var request = new XMLHttpRequest();\n",
    "request.open(\"GET\", customImage, true);\n",
    "request.responseType = \"arraybuffer\";\n",
    "request.onload = loaded;\n",
    "request.send();\n",
    "\n",
    "function loaded(e) {\n",
    "  var ab = e.target.response;  // ArrayBuffer\n",
    "  wnd.postMessage(ab, \"*\");\n",
    "}"
   ]
  },
  {
   "cell_type": "markdown",
   "metadata": {},
   "source": [
    "#Create canvas"
   ]
  },
  {
   "cell_type": "code",
   "execution_count": 57,
   "metadata": {},
   "outputs": [
    {
     "data": {
      "text/html": [
       "<canvas id=\"c\" width=\"256\" height=\"256\" style=\"display: block; margin-left: auto;  margin-right: auto;  border: solid 1px;\"></canvas>\n"
      ],
      "text/plain": [
       "<IPython.core.display.HTML object>"
      ]
     },
     "metadata": {},
     "output_type": "display_data"
    }
   ],
   "source": [
    "%%html\n",
    "<canvas id=\"c\" width=\"256\" height=\"256\" style=\"display: block; margin-left: auto;  margin-right: auto;  border: solid 1px;\"></canvas>"
   ]
  },
  {
   "cell_type": "markdown",
   "metadata": {},
   "source": [
    "#Get buffer active document from Photopea and insert in canvas"
   ]
  },
  {
   "cell_type": "code",
   "execution_count": 58,
   "metadata": {},
   "outputs": [
    {
     "data": {
      "application/javascript": [
       "var wnd = document.getElementById(\"OE\").contentWindow;\n",
       "var c = document.getElementById(\"c\");\n",
       "window.addEventListener(\"message\", getBuffer);\n",
       "\n",
       "var flag = 0;\n",
       "\n",
       "function getBuffer(e) {        \n",
       "  if (e.data instanceof ArrayBuffer && flag == 0) {\n",
       "      console.log(e.data);\n",
       "      var ctx = c.getContext(\"2d\");\n",
       "      var blob = new Blob([e.data], { type: 'image/png' });\n",
       "      \n",
       "      var url = URL.createObjectURL(blob);\n",
       "      var image = new Image();\n",
       "      image.src = url;\n",
       "            \n",
       "      image.onload = function() {\n",
       "      c.width = image.width;\n",
       "      c.height = image.height;\n",
       "      ctx.drawImage(image, 0, 0);\n",
       "      // You can now use the canvas with the PNG image\n",
       "      };  \n",
       "      flag = 1;\n",
       "  }\n",
       "}\n",
       "\n",
       "wnd.postMessage(\"app.activeDocument.saveToOE('png');\", \"*\");\n"
      ],
      "text/plain": [
       "<IPython.core.display.Javascript object>"
      ]
     },
     "metadata": {},
     "output_type": "display_data"
    }
   ],
   "source": [
    "%%js\n",
    "var wnd = document.getElementById(\"OE\").contentWindow;\n",
    "var c = document.getElementById(\"c\");\n",
    "window.addEventListener(\"message\", getBuffer);\n",
    "\n",
    "var flag = 0;\n",
    "\n",
    "function getBuffer(e) {        \n",
    "  if (e.data instanceof ArrayBuffer && flag == 0) {\n",
    "      console.log(e.data);\n",
    "      var ctx = c.getContext(\"2d\");\n",
    "      var blob = new Blob([e.data], { type: 'image/png' });\n",
    "      \n",
    "      var url = URL.createObjectURL(blob);\n",
    "      var image = new Image();\n",
    "      image.src = url;\n",
    "            \n",
    "      image.onload = function() {\n",
    "      c.width = image.width;\n",
    "      c.height = image.height;\n",
    "      ctx.drawImage(image, 0, 0);\n",
    "      // You can now use the canvas with the PNG image\n",
    "      };  \n",
    "      flag = 1;\n",
    "  }\n",
    "}\n",
    "\n",
    "wnd.postMessage(\"app.activeDocument.saveToOE('png');\", \"*\");"
   ]
  },
  {
   "cell_type": "markdown",
   "metadata": {},
   "source": [
    "#Send canvas as ArrayBuffer in Photopea "
   ]
  },
  {
   "cell_type": "code",
   "execution_count": 59,
   "metadata": {},
   "outputs": [
    {
     "data": {
      "application/javascript": [
       "var wnd = document.getElementById(\"OE\").contentWindow;\n",
       "var c = document.getElementById(\"c\");\n",
       "\n",
       "var dataURL = c.toDataURL(); \n",
       "\n",
       "var base64 = dataURL.split(',')[1]; \n",
       "var binaryString = window.atob(base64);\n",
       "var length = binaryString.length;\n",
       "var bytes = new Uint8Array(length);\n",
       "for (var i = 0; i < length; i++) {\n",
       "          bytes[i] = binaryString.charCodeAt(i);\n",
       " }\n",
       "       \n",
       "var bufferCanvas = bytes.buffer; \n",
       "wnd.postMessage(bufferCanvas,\"*\");\n"
      ],
      "text/plain": [
       "<IPython.core.display.Javascript object>"
      ]
     },
     "metadata": {},
     "output_type": "display_data"
    }
   ],
   "source": [
    "%%js\n",
    "var wnd = document.getElementById(\"OE\").contentWindow;\n",
    "var c = document.getElementById(\"c\");\n",
    "\n",
    "var dataURL = c.toDataURL(); \n",
    "\n",
    "var base64 = dataURL.split(',')[1]; \n",
    "var binaryString = window.atob(base64);\n",
    "var length = binaryString.length;\n",
    "var bytes = new Uint8Array(length);\n",
    "for (var i = 0; i < length; i++) {\n",
    "          bytes[i] = binaryString.charCodeAt(i);\n",
    " }\n",
    "       \n",
    "var bufferCanvas = bytes.buffer; \n",
    "wnd.postMessage(bufferCanvas,\"*\");"
   ]
  },
  {
   "cell_type": "markdown",
   "metadata": {},
   "source": [
    "#Send Photopea script with functions from library photopeaactionslib.jsx (https://bit.ly/photopeaActionsLib)"
   ]
  },
  {
   "cell_type": "code",
   "execution_count": 60,
   "metadata": {},
   "outputs": [
    {
     "data": {
      "application/javascript": [
       "var myScript =         'applyPPFilter(\"OilPaint\", [1.0, 2.0, 3.0, 4.0, true, 5.0, 45]);\\n';\n",
       "myScript = myScript  + 'applyPPFilter(\"HSB/HSL\", [\"RGBC\", \"HSLC\"]);';\n",
       "\n",
       "var wnd = document.getElementById(\"OE\").contentWindow;\n",
       "\n",
       "var request = new XMLHttpRequest();\n",
       "request.open(\"GET\", \"https://photopeaactionslib.olegpustovoit.repl.co/photopeaActionsLib.jsx\", true);\n",
       "request.responseType = \"text\";\n",
       "request.onload = loaded;\n",
       "request.send();\n",
       "\n",
       "function loaded(e) {\n",
       "  var scriptPP = e.target.response + myScript;  // Script\n",
       "  console.log(scriptPP);\n",
       "  wnd.postMessage(scriptPP, \"*\");\n",
       "}\n"
      ],
      "text/plain": [
       "<IPython.core.display.Javascript object>"
      ]
     },
     "metadata": {},
     "output_type": "display_data"
    }
   ],
   "source": [
    "%%js\n",
    "var myScript =         'applyPPFilter(\"OilPaint\", [1.0, 2.0, 3.0, 4.0, true, 5.0, 45]);\\n';\n",
    "myScript = myScript  + 'applyPPFilter(\"HSB/HSL\", [\"RGBC\", \"HSLC\"]);';\n",
    "\n",
    "var wnd = document.getElementById(\"OE\").contentWindow;\n",
    "\n",
    "var request = new XMLHttpRequest();\n",
    "request.open(\"GET\", \"https://photopeaactionslib.olegpustovoit.repl.co/photopeaActionsLib.jsx\", true);\n",
    "request.responseType = \"text\";\n",
    "request.onload = loaded;\n",
    "request.send();\n",
    "\n",
    "function loaded(e) {\n",
    "  var scriptPP = e.target.response + myScript;  // Script\n",
    "  console.log(scriptPP);\n",
    "  wnd.postMessage(scriptPP, \"*\");\n",
    "}"
   ]
  }
 ],
 "metadata": {
  "colab": {
   "authorship_tag": "ABX9TyNMYB8IQDLKgJ9+sED5LfDw",
   "provenance": []
  },
  "kernelspec": {
   "display_name": "Python 3 (ipykernel)",
   "language": "python",
   "name": "python3"
  },
  "language_info": {
   "codemirror_mode": {
    "name": "ipython",
    "version": 3
   },
   "file_extension": ".py",
   "mimetype": "text/x-python",
   "name": "python",
   "nbconvert_exporter": "python",
   "pygments_lexer": "ipython3",
   "version": "3.11.1"
  }
 },
 "nbformat": 4,
 "nbformat_minor": 4
}
